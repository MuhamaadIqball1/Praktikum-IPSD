{
  "nbformat": 4,
  "nbformat_minor": 0,
  "metadata": {
    "colab": {
      "provenance": []
    },
    "kernelspec": {
      "name": "python3",
      "display_name": "Python 3"
    },
    "language_info": {
      "name": "python"
    }
  },
  "cells": [
    {
      "cell_type": "code",
      "execution_count": null,
      "metadata": {
        "colab": {
          "base_uri": "https://localhost:8080/"
        },
        "id": "_Uyq_1_r4rZ9",
        "outputId": "75af0d5c-7a2f-442f-80a0-2d194251b3c1"
      },
      "outputs": [
        {
          "output_type": "stream",
          "name": "stdout",
          "text": [
            "Nama : Yanto \n",
            "Umur : 38\n"
          ]
        }
      ],
      "source": [
        "# Buat program yang menampilkan nama dan umur.\n",
        "nama = \"Yanto\"\n",
        "umur = 38\n",
        "print(f\"Nama : {nama} \\nUmur : {umur}\")"
      ]
    },
    {
      "cell_type": "code",
      "source": [
        "# Buat variabel untuk menyimpan nilai luas dan keliling lingkaran, hitung hasilnya.\n",
        "from math import pi\n",
        "\n",
        "jari = 8\n",
        "luas = pi *jari**2\n",
        "keliling = 2*pi*jari\n",
        "print(f\"Luas Lingkaran : {luas} \\nKeliling Lingkaran : {keliling}\")"
      ],
      "metadata": {
        "colab": {
          "base_uri": "https://localhost:8080/"
        },
        "id": "fTRhOz2945oi",
        "outputId": "83d37bd2-169d-4b6a-b44d-479bb9e2cf53"
      },
      "execution_count": null,
      "outputs": [
        {
          "output_type": "stream",
          "name": "stdout",
          "text": [
            "Luas Lingkaran : 201.06192982974676 \n",
            "Keliling Lingkaran : 50.26548245743669\n"
          ]
        }
      ]
    },
    {
      "cell_type": "code",
      "source": [
        "# Tampilkan tipe data dari variabel yang menyimpan angka dan teks.\n",
        "angka = 129\n",
        "teks = 'ini angka'\n",
        "print(f\"Tipe Data Angka : {type(angka)} \\nTipe Data Teks : {type(teks)}\")"
      ],
      "metadata": {
        "colab": {
          "base_uri": "https://localhost:8080/"
        },
        "id": "7fViZJgI69KN",
        "outputId": "6884fb96-222f-4695-81fa-889b5f125cfc"
      },
      "execution_count": null,
      "outputs": [
        {
          "output_type": "stream",
          "name": "stdout",
          "text": [
            "Tipe Data Angka : <class 'int'> \n",
            "Tipe Data Teks : <class 'str'>\n"
          ]
        }
      ]
    },
    {
      "cell_type": "code",
      "source": [
        "# Buat program yang mengubah nilai dari tipe integer menjadi float.\n",
        "nilai = 100\n",
        "print(f'nilai kamu adalah {nilai} dan tipe datanya adalah {type(nilai)}')\n",
        "nilai = float(nilai)\n",
        "print(f'nilai kamu adalah {nilai} dan tipe datanya adalah {type(nilai)}')\n"
      ],
      "metadata": {
        "colab": {
          "base_uri": "https://localhost:8080/"
        },
        "id": "Aqdf8uDq7C1A",
        "outputId": "e8621dc7-21e3-446c-d26d-e74d6feed4c5"
      },
      "execution_count": null,
      "outputs": [
        {
          "output_type": "stream",
          "name": "stdout",
          "text": [
            "nilai kamu adalah 100 dan tipe datanya adalah <class 'int'>\n",
            "nilai kamu adalah 100.0 dan tipe datanya adalah <class 'float'>\n"
          ]
        }
      ]
    },
    {
      "cell_type": "code",
      "source": [
        "# Buat program yang mengubah string menjadi integer dan sebaliknya.\n",
        "a = \"123\"\n",
        "print(f\"Tipe Data a : {type(a)}\")\n",
        "a = int(a)\n",
        "print(f\"Tipe Data a : {type(a)}\")"
      ],
      "metadata": {
        "colab": {
          "base_uri": "https://localhost:8080/"
        },
        "id": "1tcCoPLx7N9x",
        "outputId": "bb6a3113-5d19-47c7-b614-deaf42c31f75"
      },
      "execution_count": null,
      "outputs": [
        {
          "output_type": "stream",
          "name": "stdout",
          "text": [
            "Tipe Data a : <class 'str'>\n",
            "Tipe Data a : <class 'int'>\n"
          ]
        }
      ]
    },
    {
      "cell_type": "code",
      "source": [
        "# Buat program yang mengalikan string dengan angka\n",
        "text = \"ulang \"\n",
        "multiplied_text = text * 3\n",
        "print(multiplied_text)"
      ],
      "metadata": {
        "colab": {
          "base_uri": "https://localhost:8080/"
        },
        "id": "avhi4uqz7Xwx",
        "outputId": "4a818548-62f3-499a-911d-4b476ed1f57e"
      },
      "execution_count": null,
      "outputs": [
        {
          "output_type": "stream",
          "name": "stdout",
          "text": [
            "ulang ulang ulang \n"
          ]
        }
      ]
    },
    {
      "cell_type": "code",
      "source": [
        "# Buat program yang memeriksa apakah angka adalah bilangan genap atau ganjil\n",
        "number = 7\n",
        "if number % 2 == 0:\n",
        "  print(\"Genap\")\n",
        "else:\n",
        "  print(\"Ganjil\")"
      ],
      "metadata": {
        "colab": {
          "base_uri": "https://localhost:8080/"
        },
        "id": "ihjYC7PN7eV0",
        "outputId": "2cd771e9-186b-4c85-d846-72b3ef37c71b"
      },
      "execution_count": null,
      "outputs": [
        {
          "output_type": "stream",
          "name": "stdout",
          "text": [
            "Ganjil\n"
          ]
        }
      ]
    },
    {
      "cell_type": "code",
      "source": [
        "# Buat program yang memeriksa apakah sebuah nilai lebih besar dari 100\n",
        "value = 150\n",
        "if value > 100:\n",
        "    print(\"lebih dari 100\")\n",
        "else:\n",
        "    print(\"100 atau kurang dari\")"
      ],
      "metadata": {
        "colab": {
          "base_uri": "https://localhost:8080/"
        },
        "id": "brMkdZs07tfq",
        "outputId": "5df4a32f-bc40-45fe-a92f-14f07d4ca726"
      },
      "execution_count": null,
      "outputs": [
        {
          "output_type": "stream",
          "name": "stdout",
          "text": [
            "lebih dari 100\n"
          ]
        }
      ]
    },
    {
      "cell_type": "code",
      "source": [
        "# Buat program yang menerima input umur dan menampilkan kategori umur (anak-anak, remaja, dewasa)\n",
        "age = 16\n",
        "if age <= 12:\n",
        "    print(\"Anak-anak\")\n",
        "elif 13 <= age <= 17:\n",
        "    print(\"Remaja\")\n",
        "else:\n",
        "    print(\"Dewasa\")"
      ],
      "metadata": {
        "colab": {
          "base_uri": "https://localhost:8080/"
        },
        "id": "X9LTNOb1Q307",
        "outputId": "fdadaad5-f161-4e75-8ae9-fcb3d6f5fcea"
      },
      "execution_count": null,
      "outputs": [
        {
          "output_type": "stream",
          "name": "stdout",
          "text": [
            "Remaja\n"
          ]
        }
      ]
    },
    {
      "cell_type": "code",
      "source": [
        "# Buat program yang meminta input nama pengguna, jika nama benar tampilkan \"Selamat datang\"\n",
        "username = input(\"Enter username: \")\n",
        "if username == \"Jono\":\n",
        "    print(\"Selamat datang {username}\")\n",
        "elif username == \"Slamet\":\n",
        "    print(f\"Selamat datang {username}\")\n",
        "else:\n",
        "    print(\"Nama tidak dikenali\")"
      ],
      "metadata": {
        "colab": {
          "base_uri": "https://localhost:8080/"
        },
        "id": "h0-rzvfRQ5-e",
        "outputId": "a5243140-4df9-484f-a1de-7597f47d11eb"
      },
      "execution_count": null,
      "outputs": [
        {
          "output_type": "stream",
          "name": "stdout",
          "text": [
            "Enter username: Slamet\n",
            "Selamat datang Slamet\n"
          ]
        }
      ]
    },
    {
      "cell_type": "code",
      "source": [
        "# Buat program yang menampilkan apakah suatu tahun adalah tahun kabisat\n",
        "year = 2024\n",
        "if (year % 4 == 0 and year % 100 != 0) or (year % 400 == 0):\n",
        "    print(\"Tahun Kabisat\")\n",
        "else:\n",
        "    print(\"Bukan Tahun Kabisat\")\n"
      ],
      "metadata": {
        "colab": {
          "base_uri": "https://localhost:8080/"
        },
        "id": "Tnb9MAVOQ8Le",
        "outputId": "c856a4c4-108f-4a69-b4a5-bf75503eebb4"
      },
      "execution_count": null,
      "outputs": [
        {
          "output_type": "stream",
          "name": "stdout",
          "text": [
            "Tahun Kabisat\n"
          ]
        }
      ]
    },
    {
      "cell_type": "code",
      "source": [
        "# Buat program untuk menentukan apakah seseorang boleh memberikan suara berdasarkan umurnya\n",
        "age = 18\n",
        "if age >= 18:\n",
        "    print(\"Boleh memberikan suara\")\n",
        "else:\n",
        "    print(\"Tidak boleh memberikan suara\")"
      ],
      "metadata": {
        "colab": {
          "base_uri": "https://localhost:8080/"
        },
        "id": "6GXV_nHVRSEi",
        "outputId": "5df4ce04-7600-4658-c4a6-2318a0507009"
      },
      "execution_count": null,
      "outputs": [
        {
          "output_type": "stream",
          "name": "stdout",
          "text": [
            "Boleh memberikan suara\n"
          ]
        }
      ]
    },
    {
      "cell_type": "code",
      "source": [
        "# Buat program yang meminta input tiga angka dan menampilkan angka terbesar.\n",
        "a, b, c = 3, 7, 5\n",
        "largest = max(a, b, c)\n",
        "print(f\"Nilai terbesar {largest}\")\n"
      ],
      "metadata": {
        "colab": {
          "base_uri": "https://localhost:8080/"
        },
        "id": "oI9i78RnRVuJ",
        "outputId": "8d8f5bab-ece1-47e9-dba2-92682838f9ea"
      },
      "execution_count": null,
      "outputs": [
        {
          "output_type": "stream",
          "name": "stdout",
          "text": [
            "Nilai terbesar 7\n"
          ]
        }
      ]
    },
    {
      "cell_type": "code",
      "source": [
        "# Buat program yang mengecek apakah dua string memiliki panjang yang sama\n",
        "str1 = \"hello\"\n",
        "str2 = \"world\"\n",
        "if len(str1) == len(str2):\n",
        "    print(\"Memiliki Panjang yg sama\")\n",
        "else:\n",
        "    print(\"Memiliki panjang yg berbeda\")\n"
      ],
      "metadata": {
        "colab": {
          "base_uri": "https://localhost:8080/"
        },
        "id": "67IDz0NSRbYi",
        "outputId": "e579d9f8-c458-4f51-8abd-235332047d6c"
      },
      "execution_count": null,
      "outputs": [
        {
          "output_type": "stream",
          "name": "stdout",
          "text": [
            "Memiliki Panjang yg sama\n"
          ]
        }
      ]
    },
    {
      "cell_type": "code",
      "source": [
        "# Buat program yang menampilkan angka 1 sampai 10 menggunakan for loop\n",
        "for i in range(1, 11):\n",
        "    print(i)"
      ],
      "metadata": {
        "colab": {
          "base_uri": "https://localhost:8080/"
        },
        "id": "876gZBwqRj4z",
        "outputId": "fd29adfa-e7de-4909-ea4f-ae90d40443e8"
      },
      "execution_count": null,
      "outputs": [
        {
          "output_type": "stream",
          "name": "stdout",
          "text": [
            "1\n",
            "2\n",
            "3\n",
            "4\n",
            "5\n",
            "6\n",
            "7\n",
            "8\n",
            "9\n",
            "10\n"
          ]
        }
      ]
    },
    {
      "cell_type": "code",
      "source": [
        "# Buat program yang menampilkan bilangan genap dari 2 sampai 20 menggunakan while loop\n",
        "i = 2\n",
        "while i <= 20:\n",
        "    print(i)\n",
        "    i += 2"
      ],
      "metadata": {
        "colab": {
          "base_uri": "https://localhost:8080/"
        },
        "id": "Btbms_HMRm8s",
        "outputId": "68f71569-fd90-4fdb-be1a-6e8b3e43148f"
      },
      "execution_count": null,
      "outputs": [
        {
          "output_type": "stream",
          "name": "stdout",
          "text": [
            "2\n",
            "4\n",
            "6\n",
            "8\n",
            "10\n",
            "12\n",
            "14\n",
            "16\n",
            "18\n",
            "20\n"
          ]
        }
      ]
    },
    {
      "cell_type": "code",
      "source": [
        "# Buat program yang menerima input dan menampilkan kalimat tersebut sebanyak 5 kali\n",
        "sentence = input(\"Masukkan Kalimat: \")\n",
        "for _ in range(5):\n",
        "    print(sentence)\n"
      ],
      "metadata": {
        "colab": {
          "base_uri": "https://localhost:8080/"
        },
        "id": "_eF6uidzRozT",
        "outputId": "e2c5c378-45c0-4603-d04d-0707dc8fc855"
      },
      "execution_count": null,
      "outputs": [
        {
          "output_type": "stream",
          "name": "stdout",
          "text": [
            "Masukkan Kalimat: ibal\n",
            "ibal\n",
            "ibal\n",
            "ibal\n",
            "ibal\n",
            "ibal\n"
          ]
        }
      ]
    },
    {
      "cell_type": "code",
      "source": [
        "# Buat program untuk menghitung jumlah angka dari 1 sampai N\n",
        "N = 10\n",
        "total_sum = sum(range(1, N + 1))\n",
        "print(f\"Sum dari 1 to {N} adalah {total_sum}\")"
      ],
      "metadata": {
        "colab": {
          "base_uri": "https://localhost:8080/"
        },
        "id": "1MlKN68nRvvl",
        "outputId": "b4af21d3-826e-4f6c-d93d-29b90972df59"
      },
      "execution_count": null,
      "outputs": [
        {
          "output_type": "stream",
          "name": "stdout",
          "text": [
            "Sum dari 1 to 10 adalah 55\n"
          ]
        }
      ]
    },
    {
      "cell_type": "code",
      "source": [
        "# Buat program yang menggunakan break untuk keluar dari loop jika kondisi tertentu terpenuhi\n",
        "for i in range(1, 11):\n",
        "    if i == 5:\n",
        "        break\n",
        "    print(i)"
      ],
      "metadata": {
        "colab": {
          "base_uri": "https://localhost:8080/"
        },
        "id": "1wYm6HqtR0I9",
        "outputId": "04660780-03ec-44cb-a32f-2813d72864ed"
      },
      "execution_count": null,
      "outputs": [
        {
          "output_type": "stream",
          "name": "stdout",
          "text": [
            "1\n",
            "2\n",
            "3\n",
            "4\n"
          ]
        }
      ]
    },
    {
      "cell_type": "code",
      "source": [
        "# Buat program yang menggunakan continue untuk melewati iterasi tertentu dalam loop\n",
        "for i in range(1, 11):\n",
        "    if i == 5:\n",
        "        continue\n",
        "    print(i)"
      ],
      "metadata": {
        "colab": {
          "base_uri": "https://localhost:8080/"
        },
        "id": "dcVq-xO_R7sf",
        "outputId": "879386a9-5120-4234-ff65-a59cd1b376df"
      },
      "execution_count": null,
      "outputs": [
        {
          "output_type": "stream",
          "name": "stdout",
          "text": [
            "1\n",
            "2\n",
            "3\n",
            "4\n",
            "6\n",
            "7\n",
            "8\n",
            "9\n",
            "10\n"
          ]
        }
      ]
    },
    {
      "cell_type": "code",
      "source": [
        "# Buat program yang menampilkan tabel perkalian 1 sampai 10\n",
        "for i in range(1, 11):\n",
        "    for j in range(1, 11):\n",
        "        print(f\"{i} x {j} = {i * j}\")\n",
        "    print()"
      ],
      "metadata": {
        "colab": {
          "base_uri": "https://localhost:8080/"
        },
        "id": "-2130UldR-xl",
        "outputId": "dd14e8c3-581a-42b2-a17a-90a49aa98582"
      },
      "execution_count": null,
      "outputs": [
        {
          "output_type": "stream",
          "name": "stdout",
          "text": [
            "1 x 1 = 1\n",
            "1 x 2 = 2\n",
            "1 x 3 = 3\n",
            "1 x 4 = 4\n",
            "1 x 5 = 5\n",
            "1 x 6 = 6\n",
            "1 x 7 = 7\n",
            "1 x 8 = 8\n",
            "1 x 9 = 9\n",
            "1 x 10 = 10\n",
            "\n",
            "2 x 1 = 2\n",
            "2 x 2 = 4\n",
            "2 x 3 = 6\n",
            "2 x 4 = 8\n",
            "2 x 5 = 10\n",
            "2 x 6 = 12\n",
            "2 x 7 = 14\n",
            "2 x 8 = 16\n",
            "2 x 9 = 18\n",
            "2 x 10 = 20\n",
            "\n",
            "3 x 1 = 3\n",
            "3 x 2 = 6\n",
            "3 x 3 = 9\n",
            "3 x 4 = 12\n",
            "3 x 5 = 15\n",
            "3 x 6 = 18\n",
            "3 x 7 = 21\n",
            "3 x 8 = 24\n",
            "3 x 9 = 27\n",
            "3 x 10 = 30\n",
            "\n",
            "4 x 1 = 4\n",
            "4 x 2 = 8\n",
            "4 x 3 = 12\n",
            "4 x 4 = 16\n",
            "4 x 5 = 20\n",
            "4 x 6 = 24\n",
            "4 x 7 = 28\n",
            "4 x 8 = 32\n",
            "4 x 9 = 36\n",
            "4 x 10 = 40\n",
            "\n",
            "5 x 1 = 5\n",
            "5 x 2 = 10\n",
            "5 x 3 = 15\n",
            "5 x 4 = 20\n",
            "5 x 5 = 25\n",
            "5 x 6 = 30\n",
            "5 x 7 = 35\n",
            "5 x 8 = 40\n",
            "5 x 9 = 45\n",
            "5 x 10 = 50\n",
            "\n",
            "6 x 1 = 6\n",
            "6 x 2 = 12\n",
            "6 x 3 = 18\n",
            "6 x 4 = 24\n",
            "6 x 5 = 30\n",
            "6 x 6 = 36\n",
            "6 x 7 = 42\n",
            "6 x 8 = 48\n",
            "6 x 9 = 54\n",
            "6 x 10 = 60\n",
            "\n",
            "7 x 1 = 7\n",
            "7 x 2 = 14\n",
            "7 x 3 = 21\n",
            "7 x 4 = 28\n",
            "7 x 5 = 35\n",
            "7 x 6 = 42\n",
            "7 x 7 = 49\n",
            "7 x 8 = 56\n",
            "7 x 9 = 63\n",
            "7 x 10 = 70\n",
            "\n",
            "8 x 1 = 8\n",
            "8 x 2 = 16\n",
            "8 x 3 = 24\n",
            "8 x 4 = 32\n",
            "8 x 5 = 40\n",
            "8 x 6 = 48\n",
            "8 x 7 = 56\n",
            "8 x 8 = 64\n",
            "8 x 9 = 72\n",
            "8 x 10 = 80\n",
            "\n",
            "9 x 1 = 9\n",
            "9 x 2 = 18\n",
            "9 x 3 = 27\n",
            "9 x 4 = 36\n",
            "9 x 5 = 45\n",
            "9 x 6 = 54\n",
            "9 x 7 = 63\n",
            "9 x 8 = 72\n",
            "9 x 9 = 81\n",
            "9 x 10 = 90\n",
            "\n",
            "10 x 1 = 10\n",
            "10 x 2 = 20\n",
            "10 x 3 = 30\n",
            "10 x 4 = 40\n",
            "10 x 5 = 50\n",
            "10 x 6 = 60\n",
            "10 x 7 = 70\n",
            "10 x 8 = 80\n",
            "10 x 9 = 90\n",
            "10 x 10 = 100\n",
            "\n"
          ]
        }
      ]
    },
    {
      "cell_type": "code",
      "source": [
        "# Buat program untuk menghitung jumlah bilangan ganjil antara dua bilangan yang diberikan\n",
        "start = 1\n",
        "end = 10\n",
        "sum_odds = sum(i for i in range(start, end + 1) if i % 2 != 0)\n",
        "print(f\"Sum of odd numbers between {start} and {end} is {sum_odds}\")"
      ],
      "metadata": {
        "colab": {
          "base_uri": "https://localhost:8080/"
        },
        "id": "n6AxWgbnSB8L",
        "outputId": "5bf4f4af-eba3-4147-a668-810ab94bfdc1"
      },
      "execution_count": null,
      "outputs": [
        {
          "output_type": "stream",
          "name": "stdout",
          "text": [
            "Sum of odd numbers between 1 and 10 is 25\n"
          ]
        }
      ]
    },
    {
      "cell_type": "code",
      "source": [
        "# Buat fungsi untuk menghitung luas segitiga\n",
        "def triangle_area(base, height):\n",
        "    return 0.5 * base * height\n",
        "\n",
        "print(triangle_area(10, 5))"
      ],
      "metadata": {
        "colab": {
          "base_uri": "https://localhost:8080/"
        },
        "id": "Wx7SWT1xSERD",
        "outputId": "bba037bc-4dfd-4d8a-c1e0-8ab1e993c9a1"
      },
      "execution_count": null,
      "outputs": [
        {
          "output_type": "stream",
          "name": "stdout",
          "text": [
            "25.0\n"
          ]
        }
      ]
    },
    {
      "cell_type": "code",
      "source": [
        "# Buat fungsi yang menerima nama dan menampilkan \"Halo, [nama]\"\n",
        "def greet(name):\n",
        "    print(f\"Halo, {name}\")\n",
        "\n",
        "greet(\"Alice\")"
      ],
      "metadata": {
        "colab": {
          "base_uri": "https://localhost:8080/"
        },
        "id": "WHBDSLMeSG6s",
        "outputId": "802ae6e1-a7f1-4cc4-ca14-cbec68d4d9d1"
      },
      "execution_count": null,
      "outputs": [
        {
          "output_type": "stream",
          "name": "stdout",
          "text": [
            "Halo, Alice\n"
          ]
        }
      ]
    },
    {
      "cell_type": "code",
      "source": [
        "# Buat fungsi untuk memeriksa apakah suatu angka adalah bilangan prima\n",
        "def is_prime(n):\n",
        "    if n <= 1:\n",
        "        return False\n",
        "    for i in range(2, int(n**0.5) + 1):\n",
        "        if n % i == 0:\n",
        "            return False\n",
        "    return True\n",
        "\n",
        "print(is_prime(7))"
      ],
      "metadata": {
        "colab": {
          "base_uri": "https://localhost:8080/"
        },
        "id": "ghT7h4H_SJUe",
        "outputId": "818509c3-ab8f-4b06-ae18-73b4e752c759"
      },
      "execution_count": null,
      "outputs": [
        {
          "output_type": "stream",
          "name": "stdout",
          "text": [
            "True\n"
          ]
        }
      ]
    },
    {
      "cell_type": "code",
      "source": [
        "# Buat fungsi yang mengembalikan nilai maksimum dari tiga angka\n",
        "def max_of_three(a, b, c):\n",
        "    return max(a, b, c)\n",
        "\n",
        "print(max_of_three(3, 7, 5))"
      ],
      "metadata": {
        "colab": {
          "base_uri": "https://localhost:8080/"
        },
        "id": "N7hkq3DLSLPq",
        "outputId": "bc2093fd-895e-4413-bda5-75bd13400f79"
      },
      "execution_count": null,
      "outputs": [
        {
          "output_type": "stream",
          "name": "stdout",
          "text": [
            "7\n"
          ]
        }
      ]
    },
    {
      "cell_type": "code",
      "source": [
        "# Buat fungsi yang mengkonversi suhu dari Celcius ke Fahrenheit\n",
        "def celsius_ke_fahrenheit(celsius):\n",
        "    return (celsius * 9/5) + 32\n",
        "\n",
        "print(celsius_ke_fahrenheit(30))"
      ],
      "metadata": {
        "colab": {
          "base_uri": "https://localhost:8080/"
        },
        "id": "cCMvS7ZlSQnf",
        "outputId": "b215092a-79f8-45bf-ce55-84ede8ff7744"
      },
      "execution_count": null,
      "outputs": [
        {
          "output_type": "stream",
          "name": "stdout",
          "text": [
            "86.0\n"
          ]
        }
      ]
    },
    {
      "cell_type": "code",
      "source": [
        "# Buat fungsi yang menerima dua string dan menggabungkannya.\n",
        "def gabung(str1, str2):\n",
        "    return str1 + str2\n",
        "\n",
        "print(gabung(\"Hello, \", \"World!\"))"
      ],
      "metadata": {
        "colab": {
          "base_uri": "https://localhost:8080/"
        },
        "id": "AS6H3UcYSSnW",
        "outputId": "898f7a6c-2e51-4b9b-d47d-e1bb699aa11c"
      },
      "execution_count": null,
      "outputs": [
        {
          "output_type": "stream",
          "name": "stdout",
          "text": [
            "Hello, World!\n"
          ]
        }
      ]
    },
    {
      "cell_type": "code",
      "source": [
        "# Buat fungsi rekursif untuk menghitung faktorial dari suatu angka.\n",
        "def factorial(n):\n",
        "    if n == 0:\n",
        "        return 1\n",
        "    else:\n",
        "        return n * factorial(n-1)\n",
        "\n",
        "print(factorial(5))\n"
      ],
      "metadata": {
        "colab": {
          "base_uri": "https://localhost:8080/"
        },
        "id": "1LF0htf_ST94",
        "outputId": "6a993a2a-4fbe-4535-8ecd-64827c933b68"
      },
      "execution_count": null,
      "outputs": [
        {
          "output_type": "stream",
          "name": "stdout",
          "text": [
            "120\n"
          ]
        }
      ]
    },
    {
      "cell_type": "code",
      "source": [
        "# Buat fungsi untuk menghitung total bilangan dalam sebuah list.\n",
        "def sum_list(numbers):\n",
        "    return sum(numbers)\n",
        "\n",
        "print(sum_list([1, 2, 3, 4, 5]))\n"
      ],
      "metadata": {
        "id": "4wVkQOXgShXp",
        "colab": {
          "base_uri": "https://localhost:8080/"
        },
        "outputId": "6bd95f98-9bae-43d1-9450-baab6f44d492"
      },
      "execution_count": null,
      "outputs": [
        {
          "output_type": "stream",
          "name": "stdout",
          "text": [
            "15\n"
          ]
        }
      ]
    },
    {
      "cell_type": "code",
      "source": [
        "# Buat program yang membuat list dari 5 nama.\n",
        "names = [\"Alice\", \"Bob\", \"Charlie\", \"David\", \"Eve\"]"
      ],
      "metadata": {
        "id": "1xQPkhQvbUkk"
      },
      "execution_count": null,
      "outputs": []
    },
    {
      "cell_type": "code",
      "source": [
        "# Buat program untuk mengakses elemen pertama dan terakhir dari sebuah list.\n",
        "print(names[0])\n",
        "print(names[-1])\n"
      ],
      "metadata": {
        "colab": {
          "base_uri": "https://localhost:8080/"
        },
        "id": "oNx8ecggbwYS",
        "outputId": "22d82dcb-d44e-47b1-ebf2-cbe324dec4ec"
      },
      "execution_count": null,
      "outputs": [
        {
          "output_type": "stream",
          "name": "stdout",
          "text": [
            "Alice\n",
            "Eve\n"
          ]
        }
      ]
    },
    {
      "cell_type": "code",
      "source": [
        "# Buat program untuk menambahkan elemen baru ke list.\n",
        "names.append(\"Frank\")\n",
        "print(names)"
      ],
      "metadata": {
        "colab": {
          "base_uri": "https://localhost:8080/"
        },
        "id": "y6GffkMxb4Hr",
        "outputId": "9259db8b-fe7a-4efa-aa49-be6b0fe918c7"
      },
      "execution_count": null,
      "outputs": [
        {
          "output_type": "stream",
          "name": "stdout",
          "text": [
            "['Alice', 'Bob', 'Charlie', 'David', 'Eve', 'Frank']\n"
          ]
        }
      ]
    },
    {
      "cell_type": "code",
      "source": [
        "# Buat program untuk menghapus elemen tertentu dari list.\n",
        "names.remove(\"Charlie\")\n",
        "print(names)"
      ],
      "metadata": {
        "colab": {
          "base_uri": "https://localhost:8080/"
        },
        "id": "9E43ye4eb-i7",
        "outputId": "5462954c-aba9-4f70-bc46-7b1f085d4cdb"
      },
      "execution_count": null,
      "outputs": [
        {
          "output_type": "stream",
          "name": "stdout",
          "text": [
            "['Alice', 'Bob', 'David', 'Eve', 'Frank']\n"
          ]
        }
      ]
    },
    {
      "cell_type": "code",
      "source": [
        "# Buat program yang menghitung jumlah elemen dalam list.\n",
        "print(len(names))"
      ],
      "metadata": {
        "colab": {
          "base_uri": "https://localhost:8080/"
        },
        "id": "pNMtQKFycEjt",
        "outputId": "739327b6-73e1-48b1-9d89-df4c6b5331a7"
      },
      "execution_count": null,
      "outputs": [
        {
          "output_type": "stream",
          "name": "stdout",
          "text": [
            "5\n"
          ]
        }
      ]
    },
    {
      "cell_type": "code",
      "source": [
        "# Buat program yang mengurutkan list angka secara ascending.\n",
        "numbers = [3, 1, 4, 1, 5]\n",
        "numbers.sort()\n",
        "print(numbers)"
      ],
      "metadata": {
        "colab": {
          "base_uri": "https://localhost:8080/"
        },
        "id": "DxZzwhxDcJT7",
        "outputId": "e12b91d3-e0d2-42d2-9057-05e186965364"
      },
      "execution_count": null,
      "outputs": [
        {
          "output_type": "stream",
          "name": "stdout",
          "text": [
            "[1, 1, 3, 4, 5]\n"
          ]
        }
      ]
    },
    {
      "cell_type": "code",
      "source": [
        "# Buat program untuk membuat tuple yang berisi 5 bilangan.\n",
        "numbers_tuple = (1, 2, 3, 4, 5)"
      ],
      "metadata": {
        "id": "p7KqvkrpcN-K"
      },
      "execution_count": null,
      "outputs": []
    },
    {
      "cell_type": "code",
      "source": [
        "# Buat program untuk memeriksa apakah elemen ada dalam tuple.\n",
        "print(3 in numbers_tuple)  # Output: True"
      ],
      "metadata": {
        "colab": {
          "base_uri": "https://localhost:8080/"
        },
        "id": "9w9fyUK8cStl",
        "outputId": "620c7ad3-dc3c-4874-daa1-01447cfa9627"
      },
      "execution_count": null,
      "outputs": [
        {
          "output_type": "stream",
          "name": "stdout",
          "text": [
            "True\n"
          ]
        }
      ]
    },
    {
      "cell_type": "code",
      "source": [
        "# Buat dictionary untuk menyimpan nama dan nilai siswa.\n",
        "students = {\"Alice\": 85, \"Bob\": 90, \"Charlie\": 78}"
      ],
      "metadata": {
        "id": "flNiuhaAc0cC"
      },
      "execution_count": null,
      "outputs": []
    },
    {
      "cell_type": "code",
      "source": [
        "# Buat program untuk menampilkan nilai seorang siswa dari dictionary.\n",
        "print(students[\"Alice\"])"
      ],
      "metadata": {
        "colab": {
          "base_uri": "https://localhost:8080/"
        },
        "id": "c-DTeBbTc2QB",
        "outputId": "ebb5a6ad-be34-4eb7-e563-350ebc6b7d6a"
      },
      "execution_count": null,
      "outputs": [
        {
          "output_type": "stream",
          "name": "stdout",
          "text": [
            "85\n"
          ]
        }
      ]
    },
    {
      "cell_type": "code",
      "source": [
        "# Buat program untuk menambahkan siswa baru ke dictionary.\n",
        "students[\"David\"] = 88\n",
        "print(students)"
      ],
      "metadata": {
        "colab": {
          "base_uri": "https://localhost:8080/"
        },
        "id": "dDeNee4wc5N6",
        "outputId": "d4580074-a30e-4d75-f647-a5fbdb50ee3c"
      },
      "execution_count": null,
      "outputs": [
        {
          "output_type": "stream",
          "name": "stdout",
          "text": [
            "{'Alice': 85, 'Bob': 90, 'Charlie': 78, 'David': 88}\n"
          ]
        }
      ]
    },
    {
      "cell_type": "code",
      "source": [
        "# Buat program yang menghapus entri dari dictionary berdasarkan nama siswa.\n",
        "del students[\"Bob\"]\n",
        "print(students)"
      ],
      "metadata": {
        "colab": {
          "base_uri": "https://localhost:8080/"
        },
        "id": "NzXRIi95c6kq",
        "outputId": "d4d77dd8-137c-4a64-ecaf-2708d76afb77"
      },
      "execution_count": null,
      "outputs": [
        {
          "output_type": "stream",
          "name": "stdout",
          "text": [
            "{'Alice': 85, 'Charlie': 78, 'David': 88}\n"
          ]
        }
      ]
    },
    {
      "cell_type": "code",
      "source": [
        "# Buat program untuk mengupdate nilai siswa dalam dictionary.\n",
        "students[\"Alice\"] = 95\n",
        "print(students)"
      ],
      "metadata": {
        "colab": {
          "base_uri": "https://localhost:8080/"
        },
        "id": "hfXerARvc9M0",
        "outputId": "05f3b9b7-3610-44b0-a2d2-0e746afdac4b"
      },
      "execution_count": null,
      "outputs": [
        {
          "output_type": "stream",
          "name": "stdout",
          "text": [
            "{'Alice': 95, 'Charlie': 78, 'David': 88}\n"
          ]
        }
      ]
    },
    {
      "cell_type": "markdown",
      "source": [
        "Buat program yang menampilkan semua nama siswa dari dictionary."
      ],
      "metadata": {
        "id": "HAbX84Nkcd7J"
      }
    },
    {
      "cell_type": "code",
      "source": [
        "# Buat program yang menampilkan semua nama siswa dari dictionary.\n",
        "print(students.keys())"
      ],
      "metadata": {
        "colab": {
          "base_uri": "https://localhost:8080/"
        },
        "id": "Dj8-lRJPc__x",
        "outputId": "1f0f122b-5aca-4a87-d0ff-bfd72a1b0546"
      },
      "execution_count": null,
      "outputs": [
        {
          "output_type": "stream",
          "name": "stdout",
          "text": [
            "dict_keys(['Alice', 'Charlie', 'David'])\n"
          ]
        }
      ]
    },
    {
      "cell_type": "code",
      "source": [
        "# Buat program yang menampilkan semua nilai siswa dari dictionary.\n",
        "print(students.values())"
      ],
      "metadata": {
        "colab": {
          "base_uri": "https://localhost:8080/"
        },
        "id": "_ysnSlszdDCd",
        "outputId": "cfbc1cee-40f2-42be-af30-6656f6a9f717"
      },
      "execution_count": null,
      "outputs": [
        {
          "output_type": "stream",
          "name": "stdout",
          "text": [
            "dict_values([95, 78, 88])\n"
          ]
        }
      ]
    },
    {
      "cell_type": "code",
      "source": [
        "# Buat program untuk mengubah nilai menjadi list dari sebuah dictionary.\n",
        "scores_list = list(students.values())\n",
        "print(scores_list)"
      ],
      "metadata": {
        "colab": {
          "base_uri": "https://localhost:8080/"
        },
        "id": "6avcwwxZcx4p",
        "outputId": "6572b696-c087-4394-fbce-9bd3de9cd630"
      },
      "execution_count": null,
      "outputs": [
        {
          "output_type": "stream",
          "name": "stdout",
          "text": [
            "[95, 78, 88]\n"
          ]
        }
      ]
    },
    {
      "cell_type": "code",
      "source": [
        "# Buat program untuk membuat set yang berisi angka-angka unik.\n",
        "unique_numbers = {1, 2, 3, 4, 5}"
      ],
      "metadata": {
        "id": "qNql70Hoe0Ti"
      },
      "execution_count": null,
      "outputs": []
    },
    {
      "cell_type": "code",
      "source": [
        "string = \"hello world\"\n",
        "vowels = [char for char in string if char in 'aeiou']\n",
        "print(vowels)"
      ],
      "metadata": {
        "colab": {
          "base_uri": "https://localhost:8080/"
        },
        "id": "hTSmT0dHgccC",
        "outputId": "82364e60-900b-4beb-bbec-b758ba3060aa"
      },
      "execution_count": null,
      "outputs": [
        {
          "output_type": "stream",
          "name": "stdout",
          "text": [
            "['e', 'o', 'o']\n"
          ]
        }
      ]
    }
  ]
}