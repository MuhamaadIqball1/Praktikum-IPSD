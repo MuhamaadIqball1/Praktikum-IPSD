{
  "nbformat": 4,
  "nbformat_minor": 0,
  "metadata": {
    "colab": {
      "provenance": []
    },
    "kernelspec": {
      "name": "python3",
      "display_name": "Python 3"
    },
    "language_info": {
      "name": "python"
    }
  },
  "cells": [
    {
      "cell_type": "code",
      "execution_count": 9,
      "metadata": {
        "colab": {
          "base_uri": "https://localhost:8080/"
        },
        "id": "v7G6rdTDEpCf",
        "outputId": "d73d1467-2a3f-4e76-f3dc-0e113fb90788"
      },
      "outputs": [
        {
          "output_type": "stream",
          "name": "stdout",
          "text": [
            "2 \n",
            "3 5 \n",
            "7 11 13 \n",
            "17 19 23 29 \n",
            "31 37 41 43 47 \n"
          ]
        }
      ],
      "source": [
        "# Soal 1\n",
        "\n",
        "def bilangan_prima (n):\n",
        "    if n <= 1:\n",
        "        return False\n",
        "    for i in range(2, int(n**0.5) + 1):\n",
        "        if n % i == 0:\n",
        "            return False\n",
        "    return True\n",
        "\n",
        "def angka_prima ():\n",
        "    num = 2\n",
        "    while True:\n",
        "        if bilangan_prima (num):\n",
        "            yield num\n",
        "        num += 1\n",
        "\n",
        "def baris_bilangan_prima(rows):\n",
        "    prime_gen = angka_prima ()\n",
        "    primes = [next(prime_gen) for _ in range(sum(range(1, rows + 1)))]\n",
        "    index = 0\n",
        "    for i in range(1, rows + 1):\n",
        "        for j in range(i):\n",
        "            print(primes[index], end=' ')\n",
        "            index += 1\n",
        "        print()\n",
        "\n",
        "# Contoh penggunaan\n",
        "baris_bilangan_prima(5)\n",
        "\n"
      ]
    },
    {
      "cell_type": "code",
      "source": [
        "# Soal 2\n",
        "\n",
        "def gabungan_ganjil_dan_diurutkan_menurun(angka1, angka2):\n",
        "    # Mengambil angka atau elemen dengan indeks ganjil dari kedua list\n",
        "    odd_index_elements = angka1[1::2] + angka2[1::2]\n",
        "\n",
        "    # Mengurutkan elemen secara menurun\n",
        "    sorting = sorted(odd_index_elements, reverse=True)\n",
        "\n",
        "    return sorting\n",
        "\n",
        "# Contoh penggunan\n",
        "angka1 = [10, 2, 44, 43, 5, 65]\n",
        "angka2 = [11, 34, 33, 90, 15, 66]\n",
        "result = gabungan_ganjil_dan_diurutkan_menurun(angka1, angka2)\n",
        "print(result)\n"
      ],
      "metadata": {
        "colab": {
          "base_uri": "https://localhost:8080/"
        },
        "id": "aYXF9UW8Qyz7",
        "outputId": "7c6212a0-2626-4fd6-d15f-15f2fdb2359d"
      },
      "execution_count": 10,
      "outputs": [
        {
          "output_type": "stream",
          "name": "stdout",
          "text": [
            "[90, 66, 65, 43, 34, 2]\n"
          ]
        }
      ]
    },
    {
      "cell_type": "code",
      "source": [
        "# Soal 3\n",
        "def simulasi_atm():\n",
        "    pin_yang_benar = \"010305\"\n",
        "    saldo = 25000\n",
        "    percobaan = 0\n",
        "    percobaan_maksimal = 3\n",
        "\n",
        "    while percobaan < percobaan_maksimal:\n",
        "        pin = input(\"Masukkan PIN Anda: \")\n",
        "        if pin == pin_yang_benar:\n",
        "            print(\"PIN benar.\")\n",
        "            while True:\n",
        "                try:\n",
        "                    amount = float(input(\"Masukkan jumlah penarikan: \"))\n",
        "                    if amount > saldo:\n",
        "                        print(\"Saldo tidak mencukupi.\")\n",
        "                    else:\n",
        "                        saldo -= amount\n",
        "                        print(f\"Penarikan berhasil. Saldo akhir Anda adalah: {saldo}\")\n",
        "                        return\n",
        "                except ValueError:\n",
        "                    print(\"Masukkan jumlah yang valid.\")\n",
        "        else:\n",
        "            percobaan += 1\n",
        "            print(f\"PIN salah. Anda memiliki {percobaan_maksimal - percobaan} percobaan lagi.\")\n",
        "\n",
        "    print(\"Anda telah melebihi batas percobaan PIN.\")\n",
        "\n",
        "# Contoh penggunaan\n",
        "simulasi_atm()"
      ],
      "metadata": {
        "colab": {
          "base_uri": "https://localhost:8080/"
        },
        "id": "sU5h0WQsRbq4",
        "outputId": "a67167bc-bb2e-4de1-bf52-fcbc966447ce"
      },
      "execution_count": 16,
      "outputs": [
        {
          "output_type": "stream",
          "name": "stdout",
          "text": [
            "Masukkan PIN Anda: 010305\n",
            "PIN benar.\n",
            "Masukkan jumlah penarikan: 18000\n",
            "Penarikan berhasil. Saldo akhir Anda adalah: 7000.0\n"
          ]
        }
      ]
    },
    {
      "cell_type": "code",
      "source": [
        "import pandas as pd\n",
        "\n",
        "# Membaca file CSV\n",
        "df = pd.read_csv('nilai.csv')\n",
        "\n",
        "# Menampilkan Data Nilai\n",
        "print(\"Data Nilai Ujian Mahasiswa:\")\n",
        "print(df)\n",
        "\n",
        "# 1. Menghitung rata-rata nilai\n",
        "rata_rata = df['nilai'].mean()\n",
        "\n",
        "print(f\"\\nRata-rata nilai: {rata_rata:.2f}\")\n",
        "\n",
        "# 2. Menampilkan nilai tertinggi dan terendah\n",
        "nilai_tertinggi = df['nilai'].max()\n",
        "nilai_terendah = df['nilai'].min()\n",
        "\n",
        "print(f\"Nilai tertinggi: {nilai_tertinggi}\")\n",
        "print(f\"Nilai terendah: {nilai_terendah}\")\n"
      ],
      "metadata": {
        "id": "oSQ0NK9Qk4Bj",
        "outputId": "35f4e2ef-fe2e-44e7-f9e3-234624a00135",
        "colab": {
          "base_uri": "https://localhost:8080/"
        }
      },
      "execution_count": 53,
      "outputs": [
        {
          "output_type": "stream",
          "name": "stdout",
          "text": [
            "Data Nilai Ujian Mahasiswa:\n",
            "    nilai\n",
            "0      98\n",
            "1      61\n",
            "2      51\n",
            "3      50\n",
            "4      97\n",
            "..    ...\n",
            "95     91\n",
            "96     86\n",
            "97     72\n",
            "98     61\n",
            "99     88\n",
            "\n",
            "[100 rows x 1 columns]\n",
            "\n",
            "Rata-rata nilai: 73.02\n",
            "Nilai tertinggi: 100\n",
            "Nilai terendah: 50\n"
          ]
        }
      ]
    },
    {
      "cell_type": "code",
      "source": [
        "# Soal 5\n",
        "import random\n",
        "\n",
        "angka_rahasia = random.randint(1, 100)\n",
        "percobaan_maks = 5\n",
        "\n",
        "print(\"Selamat datang di permainan tebak angka!\")\n",
        "print(\"Saya telah memilih sebuah angka antara 1 hingga 100. Coba tebak dalam 5 kali percobaan.\")\n",
        "\n",
        "for percobaan in range(1, percobaan_maks + 1):\n",
        "    tebakan = int(input(f\"Percobaan {percobaan}: Masukkan tebakan Anda: \"))\n",
        "\n",
        "    if tebakan < angka_rahasia:\n",
        "        print(\"Terlalu kecil!\")\n",
        "    elif tebakan > angka_rahasia:\n",
        "        print(\"Terlalu besar!\")\n",
        "    else:\n",
        "        print(f\"Selamat! Anda berhasil menebak angka {angka_rahasia} dalam {percobaan} percobaan.\")\n",
        "        break\n",
        "else:\n",
        "    print(f\"Maaf, Anda telah kehabisan percobaan. Angka yang benar adalah {angka_rahasia}.\")\n",
        "\n"
      ],
      "metadata": {
        "colab": {
          "base_uri": "https://localhost:8080/"
        },
        "id": "M2-kQN3IUi7j",
        "outputId": "21359da8-2bf7-44ec-ec7f-bd910910f364"
      },
      "execution_count": 22,
      "outputs": [
        {
          "output_type": "stream",
          "name": "stdout",
          "text": [
            "Selamat datang di permainan tebak angka!\n",
            "Saya telah memilih sebuah angka antara 1 hingga 100. Coba tebak dalam 5 kali percobaan.\n",
            "Percobaan 1: Masukkan tebakan Anda: 50\n",
            "Terlalu kecil!\n",
            "Percobaan 2: Masukkan tebakan Anda: 76\n",
            "Terlalu besar!\n",
            "Percobaan 3: Masukkan tebakan Anda: 66\n",
            "Terlalu kecil!\n",
            "Percobaan 4: Masukkan tebakan Anda: 70\n",
            "Terlalu kecil!\n",
            "Percobaan 5: Masukkan tebakan Anda: 73\n",
            "Selamat! Anda berhasil menebak angka 73 dalam 5 percobaan.\n"
          ]
        }
      ]
    },
    {
      "cell_type": "code",
      "source": [
        "# Soal 6\n",
        "def faktorial(n):\n",
        "    if n == 0 or n == 1:\n",
        "        return 1\n",
        "    else:\n",
        "        return n * faktorial(n - 1)\n",
        "\n",
        "def urutan_faktorial(n):\n",
        "    if n == 0:\n",
        "        return [1]  # Faktorial dari 0 adalah 1\n",
        "    else:\n",
        "        return urutan_faktorial(n - 1) + [faktorial(n)]\n",
        "\n",
        "n = int(input(\"Masukkan bilangan bulat n: \"))\n",
        "\n",
        "hasil = urutan_faktorial(n)\n",
        "print(\"Output:\", \", \".join(map(str, hasil)))\n"
      ],
      "metadata": {
        "colab": {
          "base_uri": "https://localhost:8080/"
        },
        "id": "Ggj21axiULlG",
        "outputId": "8e2fb34b-8de1-41ac-9828-ee610107b971"
      },
      "execution_count": 24,
      "outputs": [
        {
          "output_type": "stream",
          "name": "stdout",
          "text": [
            "Masukkan bilangan bulat n: 4\n",
            "Output: 1, 1, 2, 6, 24\n"
          ]
        }
      ]
    },
    {
      "cell_type": "code",
      "source": [
        "# Soal 7\n",
        "def min_coin_change(coins, amount):\n",
        "    # Membuat array untuk menyimpan jumlah koin minimum untuk setiap nilai dari 0 hingga amount\n",
        "    dp = [float('inf')] * (amount + 1)\n",
        "\n",
        "    # Jumlah koin untuk mencapai jumlah 0 adalah 0\n",
        "    dp[0] = 0\n",
        "\n",
        "    # Mengisi dp array\n",
        "    for i in range(1, amount + 1):\n",
        "        for coin in coins:\n",
        "            if i - coin >= 0:\n",
        "                dp[i] = min(dp[i], dp[i - coin] + 1)\n",
        "\n",
        "    # Jika tidak mungkin mencapai jumlah amount, kembalikan -1\n",
        "    return dp[amount] if dp[amount] != float('inf') else -1\n",
        "\n",
        "def get_coin_combination(coins, amount):\n",
        "    # Membuat array untuk menyimpan jumlah koin minimum\n",
        "    dp = [float('inf')] * (amount + 1)\n",
        "    dp[0] = 0\n",
        "\n",
        "    # Menyimpan koin yang digunakan untuk setiap jumlah\n",
        "    coin_used = [None] * (amount + 1)\n",
        "\n",
        "    # Mengisi dp array dan mencatat koin yang digunakan\n",
        "    for i in range(1, amount + 1):\n",
        "        for coin in coins:\n",
        "            if i - coin >= 0 and dp[i - coin] + 1 < dp[i]:\n",
        "                dp[i] = dp[i - coin] + 1\n",
        "                coin_used[i] = coin\n",
        "\n",
        "    # Jika tidak mungkin mencapai jumlah amount\n",
        "    if dp[amount] == float('inf'):\n",
        "        return -1, []\n",
        "\n",
        "    # Menghitung kombinasi koin yang digunakan\n",
        "    combination = []\n",
        "    while amount > 0:\n",
        "        combination.append(coin_used[amount])\n",
        "        amount -= coin_used[amount]\n",
        "\n",
        "    return dp[amount], combination\n",
        "\n",
        "# Meminta input dari pengguna\n",
        "coins = list(map(int, input(\"Masukkan nilai koin yang tersedia (pisahkan dengan spasi): \").split()))\n",
        "amount = int(input(\"Masukkan jumlah uang yang ingin dicapai: \"))\n",
        "\n",
        "# Menghitung minimum koin yang diperlukan\n",
        "min_coins, combination = get_coin_combination(coins, amount)\n",
        "\n",
        "# Menampilkan hasil\n",
        "if min_coins != -1:\n",
        "    print(f\"Minimum koin yang diperlukan untuk mencapai jumlah {amount} adalah {min_coins}.\")\n",
        "    print(f\"Kombinasi koin yang digunakan: {combination}\")\n",
        "else:\n",
        "    print(f\"Tidak mungkin mencapai jumlah {amount} dengan koin yang tersedia.\")\n",
        "\n"
      ],
      "metadata": {
        "colab": {
          "base_uri": "https://localhost:8080/"
        },
        "id": "66krm3AaWw1E",
        "outputId": "a3ff5c32-20b9-4a0f-912c-fa17e22db844"
      },
      "execution_count": 28,
      "outputs": [
        {
          "output_type": "stream",
          "name": "stdout",
          "text": [
            "Masukkan nilai koin yang tersedia (pisahkan dengan spasi): 1 5 10 25\n",
            "Masukkan jumlah uang yang ingin dicapai: 500\n",
            "Minimum koin yang diperlukan untuk mencapai jumlah 500 adalah 0.\n",
            "Kombinasi koin yang digunakan: [25, 25, 25, 25, 25, 25, 25, 25, 25, 25, 25, 25, 25, 25, 25, 25, 25, 25, 25, 25]\n"
          ]
        }
      ]
    },
    {
      "cell_type": "code",
      "source": [
        "# Soal 8\n",
        "input_string = input(\"Masukkan sebuah kalimat: \")\n",
        "\n",
        "# Memecah string menjadi kata-kata dan membalik setiap kata\n",
        "kata_terbalik = [kata[::-1] for kata in input_string.split()]\n",
        "\n",
        "# Menampilkan hasil\n",
        "print(kata_terbalik)\n"
      ],
      "metadata": {
        "id": "Twwd-pnfYB9k",
        "outputId": "4224cd51-3769-4ded-9364-15834c5be96e",
        "colab": {
          "base_uri": "https://localhost:8080/"
        }
      },
      "execution_count": 29,
      "outputs": [
        {
          "output_type": "stream",
          "name": "stdout",
          "text": [
            "Masukkan sebuah kalimat: Urap\n",
            "['parU']\n"
          ]
        }
      ]
    },
    {
      "cell_type": "code",
      "source": [
        "# Soal 9\n",
        "from datetime import datetime\n",
        "\n",
        "class Buku:\n",
        "    def __init__(self, judul, penulis, tahun_terbit):  # Perbaikan di sini\n",
        "        self.judul = judul\n",
        "        self.penulis = penulis\n",
        "        self.tahun_terbit = tahun_terbit\n",
        "\n",
        "    def tampilkan_informasi(self):\n",
        "        print(f\"Judul: {self.judul}\")\n",
        "        print(f\"Penulis: {self.penulis}\")\n",
        "        print(f\"Tahun Terbit: {self.tahun_terbit}\")\n",
        "\n",
        "    def hitung_usia(self):\n",
        "        tahun_sekarang = datetime.now().year\n",
        "        usia = tahun_sekarang - self.tahun_terbit\n",
        "        return usia\n",
        "\n",
        "# Membuat 3 objek dari class Buku\n",
        "buku1 = Buku(\"Disruption\", \"Robert T. Kiyosaki\", 2017)\n",
        "buku2 = Buku(\"Atomic Habits\", \"James Clear\", 2018)\n",
        "buku3 = Buku(\"How To Win Friends & Influence People\", \"Dale Carnegie\", 1936)\n",
        "\n",
        "# Menampilkan informasi dan usia masing-masing buku\n",
        "for buku in [buku1, buku2, buku3]:\n",
        "    buku.tampilkan_informasi()\n",
        "    print(f\"Usia Buku: {buku.hitung_usia()} tahun\\n\")\n",
        "\n"
      ],
      "metadata": {
        "id": "dwNsUJweY0gh",
        "outputId": "73901894-4490-4816-a5bc-b5897c271a9f",
        "colab": {
          "base_uri": "https://localhost:8080/"
        }
      },
      "execution_count": 33,
      "outputs": [
        {
          "output_type": "stream",
          "name": "stdout",
          "text": [
            "Judul: Disruption\n",
            "Penulis: Robert T. Kiyosaki\n",
            "Tahun Terbit: 2017\n",
            "Usia Buku: 7 tahun\n",
            "\n",
            "Judul: Atomic Habits\n",
            "Penulis: James Clear\n",
            "Tahun Terbit: 2018\n",
            "Usia Buku: 6 tahun\n",
            "\n",
            "Judul: How To Win Friends & Influence People\n",
            "Penulis: Dale Carnegie\n",
            "Tahun Terbit: 1936\n",
            "Usia Buku: 88 tahun\n",
            "\n"
          ]
        }
      ]
    },
    {
      "cell_type": "code",
      "source": [
        "def pencarian_biner(arr, target):\n",
        "    low = 0\n",
        "    high = len(arr) - 1\n",
        "\n",
        "    while low <= high:\n",
        "        mid = (low + high) // 2\n",
        "        if arr[mid] == target:\n",
        "            return mid  # Mengembalikan indeks jika ditemukan\n",
        "        elif arr[mid] < target:\n",
        "            low = mid + 1\n",
        "        else:\n",
        "            high = mid - 1\n",
        "\n",
        "    return -1\n",
        "\n",
        "nilai_dicari = int(input(\"Masukkan angka yang ingin dicari: \"))\n",
        "\n",
        "if nilai_dicari % 2 != 0:\n",
        "    print(\"Nilai yang dicari adalah angka ganjil. Pencarian tidak dapat dilakukan.\")\n",
        "else:\n",
        "    daftar_genap = [0, 2, 4, 6, 8, 10, 12, 14, 16, 18, 20]\n",
        "\n",
        "    hasil = pencarian_biner(daftar_genap, nilai_dicari)\n",
        "\n",
        "    if hasil != -1:\n",
        "        print(f\"Angka {nilai_dicari} ditemukan di indeks {hasil}.\")\n",
        "    else:\n",
        "        print(f\"Angka {nilai_dicari} tidak ditemukan dalam daftar.\")\n"
      ],
      "metadata": {
        "id": "HpryYgmtaUtf",
        "outputId": "a30f7df4-07bc-4635-91e4-893a192585f6",
        "colab": {
          "base_uri": "https://localhost:8080/"
        }
      },
      "execution_count": 34,
      "outputs": [
        {
          "output_type": "stream",
          "name": "stdout",
          "text": [
            "Masukkan angka yang ingin dicari: 8\n",
            "Angka 8 ditemukan di indeks 4.\n"
          ]
        }
      ]
    }
  ]
}